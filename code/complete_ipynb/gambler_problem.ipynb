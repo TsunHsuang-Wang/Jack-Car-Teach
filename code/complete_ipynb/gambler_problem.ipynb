{
 "cells": [
  {
   "cell_type": "code",
   "execution_count": 1,
   "metadata": {
    "collapsed": false
   },
   "outputs": [
    {
     "data": {
      "text/html": [
       "\n",
       "<style>\n",
       "\n",
       "div.cell { /* Tunes the space between cells */\n",
       "margin-top:1em;\n",
       "margin-bottom:1em;\n",
       "}\n",
       "\n",
       "div.text_cell_render h1 { /* Main titles bigger, centered */\n",
       "font-size: 2.2em;\n",
       "line-height:1.4em;\n",
       "text-align:center;\n",
       "}\n",
       "\n",
       "div.text_cell_render h2 { /*  Parts names nearer from text */\n",
       "margin-bottom: -0.4em;\n",
       "}\n",
       "\n",
       "\n",
       "div.text_cell_render { /* Customize text cells */\n",
       "font-family: 'Times New Roman';\n",
       "font-size:1.5em;\n",
       "line-height:1.4em;\n",
       "padding-left:0em;\n",
       "padding-right:3em;\n",
       "}\n",
       "</style>\n"
      ],
      "text/plain": [
       "<IPython.core.display.HTML object>"
      ]
     },
     "execution_count": 1,
     "metadata": {},
     "output_type": "execute_result"
    }
   ],
   "source": [
    "from IPython.core.display import HTML\n",
    "HTML(\"\"\"\n",
    "<style>\n",
    "\n",
    "div.cell { /* Tunes the space between cells */\n",
    "margin-top:1em;\n",
    "margin-bottom:1em;\n",
    "}\n",
    "\n",
    "div.text_cell_render h1 { /* Main titles bigger, centered */\n",
    "font-size: 2.2em;\n",
    "line-height:1.4em;\n",
    "text-align:center;\n",
    "}\n",
    "\n",
    "div.text_cell_render h2 { /*  Parts names nearer from text */\n",
    "margin-bottom: -0.4em;\n",
    "}\n",
    "\n",
    "\n",
    "div.text_cell_render { /* Customize text cells */\n",
    "font-family: 'Times New Roman';\n",
    "font-size:1.5em;\n",
    "line-height:1.4em;\n",
    "padding-left:0em;\n",
    "padding-right:3em;\n",
    "}\n",
    "</style>\n",
    "\"\"\")"
   ]
  },
  {
   "cell_type": "markdown",
   "metadata": {},
   "source": [
    "### Gambler's problem\n",
    "\n",
    "A gambler has the opportunity to make bets on the outcomes of a sequence of coin flips. If the coin comes up heads, he wins as many dollars as he has staked on that flip; if it is tails, he loses his stake. The game ends when the gambler wins by reaching his goal of \\$100, or loses by running out of money. On each flip, the gambler must decide what portion of his capital to stake, in integer numbers of dollars. Find the optimal policy maximizes the probability of reaching the goal.\n",
    "\n",
    "This problem can be formulated as an undiscounted, episodic, finite MDP. The state is the gambler's capital, $s\\in\\{1,2,3,...,99\\}$ and the actions are stakes, $a\\in\\{1,...,min(s,100-s)\\}$. The reward is zero on all transitions except those on which the gambler reaches his goal, when it is $+1$. The state-value function then gives the probability of winning from each state. A policy is a mapping from levels of capital to stakes. Let denote $p=4$ the probability of the coin coming up heads."
   ]
  },
  {
   "cell_type": "code",
   "execution_count": 2,
   "metadata": {
    "collapsed": true,
    "deletable": true,
    "editable": true
   },
   "outputs": [],
   "source": [
    "import matplotlib.pyplot as plt\n",
    "import numpy as np\n",
    "\n",
    "%matplotlib inline \n"
   ]
  },
  {
   "cell_type": "markdown",
   "metadata": {},
   "source": [
    "#### Find an action that give maximum expected return\n",
    "\n",
    "- For an specific action $a$, compute $\\Sigma_{s'}[{P_{ss'}^{a} * (R_{ss'}^{a}+\\gamma*V(s'))}]$\n",
    "- Find maximum over actions\n",
    "- Undiscounted MDP $\\to \\gamma = 1.0$ "
   ]
  },
  {
   "cell_type": "code",
   "execution_count": 3,
   "metadata": {
    "collapsed": false,
    "deletable": true,
    "editable": true
   },
   "outputs": [],
   "source": [
    "def find_value_of_best_action(state, Vs, p_h):\n",
    "    action_max = min(state, 100-state)\n",
    "    maxValue = -1000\n",
    "    maxAction = 0\n",
    "    for action in range(1, action_max + 1):\n",
    "        Vs[-1] = Vs[0] = 0\n",
    "        if state+action==100:\n",
    "            good_r = 1\n",
    "        else:\n",
    "            good_r = 0\n",
    "        value = p_h*min(1.,good_r + Vs[state+action]) + (1.-p_h)*(0. + Vs[state-action]) #+ 1e-7\n",
    "        \n",
    "        if value > maxValue:\n",
    "            maxValue = value\n",
    "            maxAction = action\n",
    "    return maxValue, maxAction"
   ]
  },
  {
   "cell_type": "code",
   "execution_count": 4,
   "metadata": {
    "collapsed": false,
    "deletable": true,
    "editable": true
   },
   "outputs": [],
   "source": [
    "def plot_values(Vs):\n",
    "    fig = plt.figure()\n",
    "    ax1 = fig.add_subplot(111)\n",
    "    ax1.plot(Vs, '-b', label='Vs')\n",
    "    plt.ylabel('Value estimates', fontsize=16)\n",
    "    plt.xlabel('Capital', fontsize=16)\n",
    "    plt.show()"
   ]
  },
  {
   "cell_type": "code",
   "execution_count": 5,
   "metadata": {
    "collapsed": true,
    "deletable": true,
    "editable": true
   },
   "outputs": [],
   "source": [
    "def plot_policy(policy):\n",
    "    fig = plt.figure()\n",
    "    ax1 = fig.add_subplot(111)\n",
    "    ax1.step(policy, '-b', label='Vs')\n",
    "    plt.ylabel('Final policy (stake)', fontsize=16)\n",
    "    plt.xlabel('Capital', fontsize=16)\n",
    "    plt.show()"
   ]
  },
  {
   "cell_type": "markdown",
   "metadata": {},
   "source": [
    "### Solver using Value Iteration\n",
    "\n",
    "<img src=\"./index/gambler_vi.png\">\n",
    "\n",
    "- what to maintain in cache and their shapes ?\n",
    "- what is $\\Sigma_{s^{'}} ...$ ?"
   ]
  },
  {
   "cell_type": "code",
   "execution_count": 6,
   "metadata": {
    "collapsed": false,
    "deletable": true,
    "editable": true
   },
   "outputs": [
    {
     "name": "stdout",
     "output_type": "stream",
     "text": [
      "1'th iter: error = 0.953343987464905\n",
      "2'th iter: error = 0.368896007537842\n",
      "3'th iter: error = 0.139264002442360\n",
      "4'th iter: error = 0.055705599486828\n",
      "5'th iter: error = 0.022282239049673\n",
      "6'th iter: error = 0.008912895806134\n",
      "7'th iter: error = 0.001638399786316\n",
      "8'th iter: error = 0.000393216148950\n",
      "9'th iter: error = 0.000076026655734\n",
      "10'th iter: error = 0.000030410708860\n",
      "11'th iter: error = 0.000002641463652\n",
      "12'th iter: error = 0.000000904547051\n",
      "13'th iter: error = 0.000000078231096\n",
      "14'th iter: error = 0.000000029802322\n",
      "15'th iter: error = 0.000000014901161\n",
      "16'th iter: error = 0.000000007450581\n",
      "17'th iter: error = 0.000000000931323\n",
      "18'th iter: error = 0.000000000000000\n"
     ]
    }
   ],
   "source": [
    "Vs = np.zeros((101), dtype=np.float32)\n",
    "policy = np.zeros((101), dtype=np.int)\n",
    "theta = 1e-10\n",
    "p_h = 0.4\n",
    "\n",
    "iters = 0\n",
    "while True:\n",
    "    delta = 0\n",
    "    for state in range(1,100):\n",
    "        v = Vs[state]\n",
    "        Vs[state], _ = find_value_of_best_action(state, Vs.copy(), p_h)\n",
    "        delta = max(delta, abs(v-Vs[state]))\n",
    "    \n",
    "    iters += 1\n",
    "    print '%d\\'th iter: error = %.15f' %(iters, delta)\n",
    "    \n",
    "    if delta<theta:\n",
    "        break"
   ]
  },
  {
   "cell_type": "markdown",
   "metadata": {},
   "source": [
    "- what to maintain in cache and their shapes ?\n",
    "    - value function, shape = (101,)  $\\to$ state 0 and 100 are null state\n",
    "    - policy, shape = (101,) $\\to$ state 0 and 100 are null state\n",
    "- what is $\\Sigma_{s^{'}} ...$ ?\n",
    "    - p \\* (r_right + V(s'_right)) + (1-p) \\* (r_wrong + V(s'_wrong))"
   ]
  },
  {
   "cell_type": "code",
   "execution_count": 7,
   "metadata": {
    "collapsed": false
   },
   "outputs": [
    {
     "data": {
      "image/png": "[encoded data removed]",
      "text/plain": [
       "<matplotlib.figure.Figure at 0x7f55a8928610>"
      ]
     },
     "metadata": {},
     "output_type": "display_data"
    },
    {
     "data": {
      "image/png": "[encoded data removed]",
      "text/plain": [
       "<matplotlib.figure.Figure at 0x7f55a6831e10>"
      ]
     },
     "metadata": {},
     "output_type": "display_data"
    }
   ],
   "source": [
    "# Vs[0] and Vs[100] are NULL state\n",
    "# Calculate the final policy\n",
    "\n",
    "def find_value_of_best_action2(state, Vs, p_h):\n",
    "    action_max = min(state, 100-state)\n",
    "    maxValue = -1000\n",
    "    maxAction = max2Action = 0\n",
    "    for action in range(1, action_max + 1):\n",
    "        Vs[-1] = Vs[0] = 0\n",
    "        if state+action==100:\n",
    "            good_r = 1\n",
    "        else:\n",
    "            good_r = 0\n",
    "        value = p_h*min(1.,good_r + Vs[state+action]) + (1.-p_h)*(0. + Vs[state-action])\n",
    "        if value > maxValue:\n",
    "            maxValue = value\n",
    "            max2Action = maxAction\n",
    "            maxAction = action\n",
    "    return maxValue, maxAction, max2Action\n",
    "\n",
    "policy2 = policy.copy()\n",
    "for state in range(1,100):\n",
    "    _, policy[state], policy2[state] = find_value_of_best_action2(state, Vs, p_h)\n",
    "\n",
    "plot_values(Vs[1:100])\n",
    "plot_policy(policy[1:100])"
   ]
  },
  {
   "cell_type": "markdown",
   "metadata": {},
   "source": [
    "#### Optimal Value Function\n",
    "\n",
    "<img style=\"float: left;\" src=\"./index/gambler_optimal_V.png\">\n",
    "\n",
    "#### Optimal Policy\n",
    "\n",
    "|risky|conservative|\n",
    "|:---:|:---:|\n",
    "|<img src=\"./index/gambler_optimal_policy_risky.png\">|<img src=\"./index/gambler_policy_conservative.png\">|\n"
   ]
  },
  {
   "cell_type": "code",
   "execution_count": 8,
   "metadata": {
    "collapsed": false
   },
   "outputs": [
    {
     "data": {
      "image/png": "[encoded data removed]",
      "text/plain": [
       "<matplotlib.figure.Figure at 0x7f55a8bf4dd0>"
      ]
     },
     "metadata": {},
     "output_type": "display_data"
    }
   ],
   "source": [
    "fig = plt.figure()\n",
    "ax1 = fig.add_subplot(111)\n",
    "ax1.step(policy, '-b')\n",
    "ax1.step(policy2, '-r')\n",
    "plt.ylabel('Final policy (stake)', fontsize=16)\n",
    "plt.xlabel('Capital', fontsize=16)\n",
    "plt.show()"
   ]
  },
  {
   "cell_type": "markdown",
   "metadata": {},
   "source": [
    "<img style=\"float: left;\" src=\"./index/gambler_compare_policy.png\">"
   ]
  },
  {
   "cell_type": "code",
   "execution_count": 9,
   "metadata": {
    "collapsed": false
   },
   "outputs": [
    {
     "data": {
      "image/png": "[encoded data removed]",
      "text/plain": [
       "<matplotlib.figure.Figure at 0x7f55a8bf4190>"
      ]
     },
     "metadata": {},
     "output_type": "display_data"
    }
   ],
   "source": [
    "s = 58\n",
    "Vs_test = Vs.copy()\n",
    "Vs_test[-1] = 1.\n",
    "\n",
    "s_to_all_a = np.zeros((100-s+1,))\n",
    "for action in range(1,100-s+1):\n",
    "    s_to_all_a[action] = 0.4*Vs_test[s+action] + 0.6*Vs_test[s-action]\n",
    "    \n",
    "fig = plt.figure()\n",
    "ax1 = fig.add_subplot(111)\n",
    "ax1.plot(s_to_all_a[1:], '-b')\n",
    "plt.ylabel('Value estimates', fontsize=16)\n",
    "plt.xlabel('Capital', fontsize=16)\n",
    "plt.show()"
   ]
  },
  {
   "cell_type": "markdown",
   "metadata": {},
   "source": [
    "<img style=\"float: left;\" src=\"./index/s_to_all_a.png\">"
   ]
  }
 ],
 "metadata": {
  "kernelspec": {
   "display_name": "Python 2",
   "language": "python",
   "name": "python2"
  },
  "language_info": {
   "codemirror_mode": {
    "name": "ipython",
    "version": 2
   },
   "file_extension": ".py",
   "mimetype": "text/x-python",
   "name": "python",
   "nbconvert_exporter": "python",
   "pygments_lexer": "ipython2",
   "version": "2.7.12"
  }
 },
 "nbformat": 4,
 "nbformat_minor": 2
}
