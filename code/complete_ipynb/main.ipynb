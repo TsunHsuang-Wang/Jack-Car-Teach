{
 "cells": [
  {
   "cell_type": "code",
   "execution_count": 1,
   "metadata": {
    "collapsed": false,
    "deletable": true,
    "editable": true
   },
   "outputs": [
    {
     "data": {
      "text/html": [
       "\n",
       "<style>\n",
       "\n",
       "div.cell { /* Tunes the space between cells */\n",
       "margin-top:1em;\n",
       "margin-bottom:1em;\n",
       "}\n",
       "\n",
       "div.text_cell_render h1 { /* Main titles bigger, centered */\n",
       "font-size: 2.2em;\n",
       "line-height:1.4em;\n",
       "text-align:center;\n",
       "}\n",
       "\n",
       "div.text_cell_render h2 { /*  Parts names nearer from text */\n",
       "margin-bottom: -0.4em;\n",
       "}\n",
       "\n",
       "\n",
       "div.text_cell_render { /* Customize text cells */\n",
       "font-family: 'Times New Roman';\n",
       "font-size:1.5em;\n",
       "line-height:1.4em;\n",
       "padding-left:0em;\n",
       "padding-right:3em;\n",
       "}\n",
       "</style>\n"
      ],
      "text/plain": [
       "<IPython.core.display.HTML object>"
      ]
     },
     "execution_count": 1,
     "metadata": {},
     "output_type": "execute_result"
    }
   ],
   "source": [
    "from IPython.core.display import HTML\n",
    "HTML(\"\"\"\n",
    "<style>\n",
    "\n",
    "div.cell { /* Tunes the space between cells */\n",
    "margin-top:1em;\n",
    "margin-bottom:1em;\n",
    "}\n",
    "\n",
    "div.text_cell_render h1 { /* Main titles bigger, centered */\n",
    "font-size: 2.2em;\n",
    "line-height:1.4em;\n",
    "text-align:center;\n",
    "}\n",
    "\n",
    "div.text_cell_render h2 { /*  Parts names nearer from text */\n",
    "margin-bottom: -0.4em;\n",
    "}\n",
    "\n",
    "\n",
    "div.text_cell_render { /* Customize text cells */\n",
    "font-family: 'Times New Roman';\n",
    "font-size:1.5em;\n",
    "line-height:1.4em;\n",
    "padding-left:0em;\n",
    "padding-right:3em;\n",
    "}\n",
    "</style>\n",
    "\"\"\")"
   ]
  },
  {
   "cell_type": "markdown",
   "metadata": {
    "deletable": true,
    "editable": true
   },
   "source": [
    "### Jack Car Rental Problem\n",
    "\n",
    "&nbsp;&nbsp;&nbsp;&nbsp;&nbsp;Jack manages two locations, A and B, for a nationwide car rental company. Each day, some number of customers arrive at each location to rent car. If Jack has a car available, he rents it out and is credited \\$10 by the company. If he is out of cars at that location, then the business is lost. Cars become available for renting the day after they are returned. To help ensure that cars available where they are needed, Jack can move them between the two location overnight, at a cost of \\$2 per car moved. We assume that the number of cars requested and returned at each location are Poisson random variables, giving the expected number of Poisson distribution as,\n",
    "\n",
    "- A_request: 3\n",
    "- A_return:  3\n",
    "- B_request: 4\n",
    "- B_return:  2.\n",
    "\n",
    "Each location has its maximum storage as 20 cars, and 5 cars at most can be moved from one location to the other overnight. We take the discount rate to be gamma=0.9 and formulate this as a continuing finite MDP, where the time step are days, the state is the number of cars at each location, and the actions are the number of cars moved between the two location overnight, following,\n",
    "\n",
    "$+$: move cars from A to B<br/>\n",
    "$-$: move cars from B to A\n",
    "\n",
    "Find the opimal policy for Jack to earn the most money using policy iteration and value iteration.\n",
    "\n",
    "### Notes\n",
    "- In policy iteration, take a closer look at error of policy evaluation process\n",
    "- In both policy iteration and value iteration, observe how policy converges to the optimal policy\n",
    "- can try different initialization at every step of policy iteration or value iteration\n",
    "- tweak tolerance in policy evaluation process\n",
    "- your implementation of computing environment dynamics may be slightly different from mine and that is fine since it depends on the very details of problem settings. As long as your optimal policy looks resonable, everything is fine.\n",
    "- If you make sure your implementation correct, you can try different problem settings and look at your opimal policy found."
   ]
  },
  {
   "cell_type": "code",
   "execution_count": 2,
   "metadata": {
    "collapsed": true,
    "deletable": true,
    "editable": true
   },
   "outputs": [],
   "source": [
    "from jack_car import JackCar"
   ]
  },
  {
   "cell_type": "code",
   "execution_count": 3,
   "metadata": {
    "collapsed": true,
    "deletable": true,
    "editable": true
   },
   "outputs": [],
   "source": [
    "def main1():\n",
    "    DP_method = 'value-iteration'\n",
    "    p_dict = {\n",
    "        'conf_path': './env_dynamics/a1_conf.npy',\n",
    "        'P_path': './env_dynamics/a1_P.npy',\n",
    "        'R_path': './env_dynamics/a1_R.npy'\n",
    "    }\n",
    "    model = JackCar(True, precomputed_dict=p_dict)\n",
    "    \n",
    "    print('JackCar model:')\n",
    "    print('    maximum move: {}'.format(model.max_move))\n",
    "    print('    maximum number of cars in A: {}'.format(model.max_cars_A))\n",
    "    print('    maximum number of cars in B: {}'.format(model.max_cars_B))\n",
    "    print('    rent price: {}'.format(model.rent_price))\n",
    "    print('    move cost: {}'.format(model.move_cost))\n",
    "    print('    discount factor of MDP: {}'.format(model.gamma))\n",
    "\n",
    "    model.run(DP_method)\n",
    "    model.visualize_policy()"
   ]
  },
  {
   "cell_type": "code",
   "execution_count": 4,
   "metadata": {
    "collapsed": true,
    "deletable": true,
    "editable": true
   },
   "outputs": [],
   "source": [
    "def main2():\n",
    "    save_file = False\n",
    "    save_file_name = './env_dynamics/a_test'\n",
    "    DP_method = 'policy-iteration'\n",
    "    conf = {\n",
    "        'max_move': 4,\n",
    "        'max_cars_A': 10,\n",
    "        'max_cars_B': 10,\n",
    "        'rent_price': 10,\n",
    "        'move_cost': 2,\n",
    "        'gamma': 0.9\n",
    "    }\n",
    "    model = JackCar(False, conf=conf)\n",
    "    \n",
    "    print('JackCar model:')\n",
    "    print('    maximum move: {}'.format(model.max_move))\n",
    "    print('    maximum number of cars in A: {}'.format(model.max_cars_A))\n",
    "    print('    maximum number of cars in B: {}'.format(model.max_cars_B))\n",
    "    print('    rent price: {}'.format(model.rent_price))\n",
    "    print('    move cost: {}'.format(model.move_cost))\n",
    "    print('    discount factor of MDP: {}'.format(model.gamma))\n",
    "\n",
    "    if save_file:\n",
    "        model.save_full_env_dynamics(save_file_name)\n",
    "    \n",
    "    model.run()\n",
    "    model.visualize_policy()"
   ]
  },
  {
   "cell_type": "code",
   "execution_count": 5,
   "metadata": {
    "collapsed": false,
    "deletable": true,
    "editable": true
   },
   "outputs": [
    {
     "name": "stdout",
     "output_type": "stream",
     "text": [
      "JackCar model:\n",
      "    maximum move: 5\n",
      "    maximum number of cars in A: 20\n",
      "    maximum number of cars in B: 20\n",
      "    rent price: 10\n",
      "    move cost: 2\n",
      "    discount factor of MDP: 0.9\n",
      "Start running DP using method value-iteration\n",
      "policy difference = 1222\n",
      "policy difference = 158\n",
      "policy difference = 63\n",
      "policy difference = 27\n",
      "policy difference = 15\n",
      "policy difference = 10\n",
      "policy difference = 5\n",
      "policy difference = 1\n",
      "policy difference = 0\n",
      "End!! Current policy should be the optimal one\n",
      "\n",
      "Optimal policy:\n",
      " 0                                B                            \n",
      "   |-----------------------------------------------------------> 20\n",
      "   |  0  0  0  0 -1 -1 -1 -2 -2 -3 -3 -3 -4 -4 -4 -4 -5 -5 -5 -5\n",
      "   |  0  0  0  0  0 -1 -1 -2 -2 -2 -3 -3 -3 -3 -3 -4 -4 -4 -4 -4\n",
      "   |  0  0  0  0  0  0 -1 -1 -1 -2 -2 -2 -2 -3 -3 -3 -3 -3 -3 -4\n",
      "   |  0  0  0  0  0  0  0 -1 -1 -1 -1 -1 -2 -2 -2 -2 -2 -2 -3 -3\n",
      "   |  1  1  1  0  0  0  0  0  0  0 -1 -1 -1 -1 -1 -1 -1 -2 -2 -2\n",
      "   |  1  1  1  1  0  0  0  0  0  0  0  0  0  0  0 -1 -1 -1 -1 -2\n",
      "   |  2  2  2  1  1  0  0  0  0  0  0  0  0  0  0  0  0  0 -1 -1\n",
      "   |  2  2  2  2  1  1  0  0  0  0  0  0  0  0  0  0  0  0  0 -1\n",
      "   |  3  3  3  2  2  1  0  0  0  0  0  0  0  0  0  0  0  0  0 -1\n",
      " A |  4  3  3  2  2  1  1  0  0  0  0  0  0  0  0  0  0  0  0  0\n",
      "   |  4  4  3  3  2  2  1  0  0  0  0  0  0  0  0  0  0  0  0  0\n",
      "   |  4  4  4  3  2  2  1  0  0  0  0  0  0  0  0  0  0  0  0  0\n",
      "   |  5  4  4  3  3  2  1  1  0  0  0  0  0  0  0  0  0  0  0  0\n",
      "   |  5  5  4  3  3  2  1  1  0  0  0  0  0  0  0  0  0  0  0  0\n",
      "   |  5  5  4  4  3  2  2  1  0  0  0  0  0  0  0  0  0  0  0  0\n",
      "   |  5  5  5  4  3  3  2  1  1  0  0  0  0  0  0  0  0  0  0  0\n",
      "   |  5  5  5  4  3  3  2  2  1  1  1  1  1  1  1  0  0  0  0  0\n",
      "   |  5  5  5  4  4  3  3  2  2  2  2  2  2  2  1  1  1  0  0  0\n",
      "   |  5  5  5  4  4  3  3  3  3  3  3  3  3  2  2  2  1  1  1  0\n",
      "   V  5  5  5  5  4  4  4  4  4  4  4  3  3  3  3  2  2  2  1  1\n",
      "  20\n",
      "+: move cars from A to B\n",
      "-: move cars from B to A\n",
      "\n"
     ]
    }
   ],
   "source": [
    "main1()"
   ]
  },
  {
   "cell_type": "code",
   "execution_count": 6,
   "metadata": {
    "collapsed": false,
    "deletable": true,
    "editable": true
   },
   "outputs": [
    {
     "name": "stdout",
     "output_type": "stream",
     "text": [
      "JackCar model:\n",
      "    maximum move: 5\n",
      "    maximum number of cars in A: 20\n",
      "    maximum number of cars in B: 20\n",
      "    rent price: 10\n",
      "    move cost: 2\n",
      "    discount factor of MDP: 0.9\n",
      "Start running DP using method value-iteration\n",
      "policy difference = 1234\n",
      "policy difference = 158\n",
      "policy difference = 63\n",
      "policy difference = 27\n",
      "policy difference = 15\n",
      "policy difference = 10\n",
      "policy difference = 5\n",
      "policy difference = 1\n",
      "policy difference = 0\n",
      "End!! Current policy should be the optimal one\n",
      "\n",
      "Optimal policy:\n",
      " 0                                B                            \n",
      "   |-----------------------------------------------------------> 20\n",
      "   |  0  0  0  0 -1 -1 -1 -2 -2 -3 -3 -3 -4 -4 -4 -4 -5 -5 -5 -5\n",
      "   |  0  0  0  0  0 -1 -1 -2 -2 -2 -3 -3 -3 -3 -3 -4 -4 -4 -4 -4\n",
      "   |  0  0  0  0  0  0 -1 -1 -1 -2 -2 -2 -2 -3 -3 -3 -3 -3 -3 -4\n",
      "   |  0  0  0  0  0  0  0 -1 -1 -1 -1 -1 -2 -2 -2 -2 -2 -2 -3 -3\n",
      "   |  1  1  1  0  0  0  0  0  0  0 -1 -1 -1 -1 -1 -1 -1 -2 -2 -2\n",
      "   |  1  1  1  1  0  0  0  0  0  0  0  0  0  0  0 -1 -1 -1 -1 -2\n",
      "   |  2  2  2  1  1  0  0  0  0  0  0  0  0  0  0  0  0  0 -1 -1\n",
      "   |  2  2  2  2  1  1  0  0  0  0  0  0  0  0  0  0  0  0  0 -1\n",
      "   |  3  3  3  2  2  1  0  0  0  0  0  0  0  0  0  0  0  0  0 -1\n",
      " A |  4  3  3  2  2  1  1  0  0  0  0  0  0  0  0  0  0  0  0  0\n",
      "   |  4  4  3  3  2  2  1  0  0  0  0  0  0  0  0  0  0  0  0  0\n",
      "   |  4  4  4  3  2  2  1  0  0  0  0  0  0  0  0  0  0  0  0  0\n",
      "   |  5  4  4  3  3  2  1  1  0  0  0  0  0  0  0  0  0  0  0  0\n",
      "   |  5  5  4  3  3  2  1  1  0  0  0  0  0  0  0  0  0  0  0  0\n",
      "   |  5  5  4  4  3  2  2  1  0  0  0  0  0  0  0  0  0  0  0  0\n",
      "   |  5  5  5  4  3  3  2  1  1  0  0  0  0  0  0  0  0  0  0  0\n",
      "   |  5  5  5  4  3  3  2  2  1  1  1  1  1  1  1  0  0  0  0  0\n",
      "   |  5  5  5  4  4  3  3  2  2  2  2  2  2  2  1  1  1  0  0  0\n",
      "   |  5  5  5  4  4  3  3  3  3  3  3  3  3  2  2  2  1  1  1  0\n",
      "   V  5  5  5  5  4  4  4  4  4  4  4  3  3  3  3  2  2  2  1  1\n",
      "  20\n",
      "+: move cars from A to B\n",
      "-: move cars from B to A\n",
      "\n"
     ]
    }
   ],
   "source": [
    "main1()"
   ]
  },
  {
   "cell_type": "code",
   "execution_count": 8,
   "metadata": {
    "collapsed": false,
    "deletable": true,
    "editable": true
   },
   "outputs": [
    {
     "name": "stdout",
     "output_type": "stream",
     "text": [
      "Forming full environment dynamics, P_full and R_full\n",
      "End! Elapsed time = 85.2058768272\n",
      "JackCar model:\n",
      "    maximum move: 4\n",
      "    maximum number of cars in A: 10\n",
      "    maximum number of cars in B: 10\n",
      "    rent price: 10\n",
      "    move cost: 2\n",
      "    discount factor of MDP: 0.9\n",
      "Start running DP using method policy-iteration\n",
      "policy difference = 260\n",
      "policy difference = 47\n",
      "policy difference = 0\n",
      "End!! Current policy should be the optimal one\n",
      "\n",
      "Optimal policy:\n",
      " 0                 B             \n",
      "   |-----------------------------> 10\n",
      "   |  0  0  0  0 -1 -1 -1 -2 -2 -3\n",
      "   |  0  0  0  0  0 -1 -1 -1 -2 -2\n",
      "   |  0  0  0  0  0  0 -1 -1 -1 -2\n",
      "   |  0  0  0  0  0  0  0 -1 -1 -1\n",
      " A |  1  1  1  0  0  0  0  0  0 -1\n",
      "   |  1  1  1  1  0  0  0  0  0  0\n",
      "   |  2  2  2  1  1  0  0  0  0  0\n",
      "   |  2  2  2  2  1  1  0  0  0  0\n",
      "   |  3  3  3  2  2  1  1  1  0  0\n",
      "   V  3  3  3  3  2  2  1  1  1  0\n",
      "  10\n",
      "+: move cars from A to B\n",
      "-: move cars from B to A\n",
      "\n"
     ]
    }
   ],
   "source": [
    "main2()"
   ]
  }
 ],
 "metadata": {
  "kernelspec": {
   "display_name": "Python 2",
   "language": "python",
   "name": "python2"
  },
  "language_info": {
   "codemirror_mode": {
    "name": "ipython",
    "version": 2
   },
   "file_extension": ".py",
   "mimetype": "text/x-python",
   "name": "python",
   "nbconvert_exporter": "python",
   "pygments_lexer": "ipython2",
   "version": "2.7.12"
  }
 },
 "nbformat": 4,
 "nbformat_minor": 2
}
