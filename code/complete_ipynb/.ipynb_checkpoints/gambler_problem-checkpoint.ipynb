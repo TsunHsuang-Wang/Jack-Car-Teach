{
 "cells": [
  {
   "cell_type": "code",
   "execution_count": 1,
   "metadata": {
    "collapsed": false
   },
   "outputs": [
    {
     "data": {
      "text/html": [
       "\n",
       "<style>\n",
       "\n",
       "div.cell { /* Tunes the space between cells */\n",
       "margin-top:1em;\n",
       "margin-bottom:1em;\n",
       "}\n",
       "\n",
       "div.text_cell_render h1 { /* Main titles bigger, centered */\n",
       "font-size: 2.2em;\n",
       "line-height:1.4em;\n",
       "text-align:center;\n",
       "}\n",
       "\n",
       "div.text_cell_render h2 { /*  Parts names nearer from text */\n",
       "margin-bottom: -0.4em;\n",
       "}\n",
       "\n",
       "\n",
       "div.text_cell_render { /* Customize text cells */\n",
       "font-family: 'Times New Roman';\n",
       "font-size:1.5em;\n",
       "line-height:1.4em;\n",
       "padding-left:0em;\n",
       "padding-right:3em;\n",
       "}\n",
       "</style>\n"
      ],
      "text/plain": [
       "<IPython.core.display.HTML object>"
      ]
     },
     "execution_count": 1,
     "metadata": {},
     "output_type": "execute_result"
    }
   ],
   "source": [
    "from IPython.core.display import HTML\n",
    "HTML(\"\"\"\n",
    "<style>\n",
    "\n",
    "div.cell { /* Tunes the space between cells */\n",
    "margin-top:1em;\n",
    "margin-bottom:1em;\n",
    "}\n",
    "\n",
    "div.text_cell_render h1 { /* Main titles bigger, centered */\n",
    "font-size: 2.2em;\n",
    "line-height:1.4em;\n",
    "text-align:center;\n",
    "}\n",
    "\n",
    "div.text_cell_render h2 { /*  Parts names nearer from text */\n",
    "margin-bottom: -0.4em;\n",
    "}\n",
    "\n",
    "\n",
    "div.text_cell_render { /* Customize text cells */\n",
    "font-family: 'Times New Roman';\n",
    "font-size:1.5em;\n",
    "line-height:1.4em;\n",
    "padding-left:0em;\n",
    "padding-right:3em;\n",
    "}\n",
    "</style>\n",
    "\"\"\")"
   ]
  },
  {
   "cell_type": "markdown",
   "metadata": {},
   "source": [
    "### Gambler's problem\n",
    "\n",
    "A gambler has the opportunity to make bets on the outcomes of a sequence of coin flips. If the coin comes up heads, he wins as many dollars as he has staked on that flip; if it is tails, he loses his stake. The game ends when the gambler wins by reaching his goal of \\$100, or loses by running out of money. On each flip, the gambler must decide what portion of his capital to stake, in integer numbers of dollars. Find the optimal policy maximizes the probability of reaching the goal.\n",
    "\n",
    "This problem can be formulated as an undiscounted, episodic, finite MDP. The state is the gambler's capital, $s\\in\\{1,2,3,...,99\\}$ and the actions are stakes, $a\\in\\{1,...,min(s,100-s)\\}$. The reward is zero on all transitions except those on which the gambler reaches his goal, when it is $+1$. The state-value function then gives the probability of winning from each state. A policy is a mapping from levels of capital to stakes. Let denote $p=4$ the probability of the coin coming up heads."
   ]
  },
  {
   "cell_type": "code",
   "execution_count": 2,
   "metadata": {
    "collapsed": true,
    "deletable": true,
    "editable": true
   },
   "outputs": [],
   "source": [
    "import matplotlib.pyplot as plt\n",
    "import numpy as np\n",
    "\n",
    "%matplotlib inline \n"
   ]
  },
  {
   "cell_type": "markdown",
   "metadata": {},
   "source": [
    "#### Find an action that give maximum expected return\n",
    "\n",
    "- For an specific action $a$, compute $\\Sigma_{s'}[{P_{ss'}^{a} * (R_{ss'}^{a}+\\gamma*V(s'))}]$\n",
    "- Find maximum over actions\n",
    "- Undiscounted MDP $\\to \\gamma = 1.0$ "
   ]
  },
  {
   "cell_type": "code",
   "execution_count": 35,
   "metadata": {
    "collapsed": false,
    "deletable": true,
    "editable": true
   },
   "outputs": [],
   "source": [
    "def find_value_of_best_action(state, Vs, p_h):\n",
    "    action_max = min(state, 100-state)\n",
    "    maxValue = -1000\n",
    "    maxAction = 0\n",
    "    for action in range(1, action_max + 1):\n",
    "        Vs[-1] = Vs[0] = 0\n",
    "        if state+action==100:\n",
    "            good_r = 1\n",
    "        else:\n",
    "            good_r = 0\n",
    "        value = p_h*min(1.,good_r + Vs[state+action]) + (1.-p_h)*(0. + Vs[state-action])\n",
    "        if value > maxValue:\n",
    "            maxValue = value\n",
    "            maxAction = action\n",
    "    return maxValue, maxAction"
   ]
  },
  {
   "cell_type": "code",
   "execution_count": 4,
   "metadata": {
    "collapsed": false,
    "deletable": true,
    "editable": true
   },
   "outputs": [],
   "source": [
    "def plot_values(Vs):\n",
    "    fig = plt.figure()\n",
    "    ax1 = fig.add_subplot(111)\n",
    "    ax1.plot(Vs, '-b', label='Vs')\n",
    "    plt.ylabel('Value estimates', fontsize=16)\n",
    "    plt.xlabel('Capital', fontsize=16)\n",
    "    plt.show()"
   ]
  },
  {
   "cell_type": "code",
   "execution_count": 5,
   "metadata": {
    "collapsed": true,
    "deletable": true,
    "editable": true
   },
   "outputs": [],
   "source": [
    "def plot_policy(policy):\n",
    "    fig = plt.figure()\n",
    "    ax1 = fig.add_subplot(111)\n",
    "    ax1.step(policy, '-b', label='Vs')\n",
    "    plt.ylabel('Final policy (stake)', fontsize=16)\n",
    "    plt.xlabel('Capital', fontsize=16)\n",
    "    plt.show()"
   ]
  },
  {
   "cell_type": "markdown",
   "metadata": {},
   "source": [
    "### Solver using Value Iteration\n",
    "\n",
    "<img src=\"./index/gambler_vi.png\">\n",
    "\n",
    "- what to maintain in cache and their shapes ?\n",
    "- what is $\\Sigma_{s^{'}} ...$ ?"
   ]
  },
  {
   "cell_type": "code",
   "execution_count": 36,
   "metadata": {
    "collapsed": false,
    "deletable": true,
    "editable": true
   },
   "outputs": [
    {
     "name": "stdout",
     "output_type": "stream",
     "text": [
      "1'th iter: error = 0.400000005960464\n",
      "2'th iter: error = 0.239999979734421\n",
      "3'th iter: error = 0.192000001668930\n",
      "4'th iter: error = 0.115199983119965\n",
      "5'th iter: error = 0.069120004773140\n",
      "6'th iter: error = 0.041472017765045\n",
      "7'th iter: error = 0.027647972106934\n",
      "8'th iter: error = 0.016588807106018\n",
      "9'th iter: error = 0.010616868734360\n",
      "10'th iter: error = 0.006569147109985\n",
      "11'th iter: error = 0.005096077919006\n",
      "12'th iter: error = 0.003057658672333\n",
      "13'th iter: error = 0.002068161964417\n",
      "14'th iter: error = 0.001393795013428\n",
      "15'th iter: error = 0.001009017229080\n",
      "16'th iter: error = 0.000675141811371\n",
      "17'th iter: error = 0.000492066144943\n",
      "18'th iter: error = 0.000311940908432\n",
      "19'th iter: error = 0.000213146209717\n",
      "20'th iter: error = 0.000148475170135\n",
      "21'th iter: error = 0.000090837478638\n",
      "22'th iter: error = 0.000068694353104\n",
      "23'th iter: error = 0.000042587518692\n",
      "24'th iter: error = 0.000031292438507\n",
      "25'th iter: error = 0.000019311904907\n",
      "26'th iter: error = 0.000014305114746\n",
      "27'th iter: error = 0.000008642673492\n",
      "28'th iter: error = 0.000006556510925\n",
      "29'th iter: error = 0.000004053115845\n",
      "30'th iter: error = 0.000002950429916\n",
      "31'th iter: error = 0.000001937150955\n",
      "32'th iter: error = 0.000001341104507\n",
      "33'th iter: error = 0.000000864267349\n",
      "34'th iter: error = 0.000000596046448\n",
      "35'th iter: error = 0.000000417232513\n",
      "36'th iter: error = 0.000000298023224\n",
      "37'th iter: error = 0.000000208616257\n",
      "38'th iter: error = 0.000000149011612\n",
      "39'th iter: error = 0.000000119209290\n",
      "40'th iter: error = 0.000000089406967\n",
      "41'th iter: error = 0.000000059604645\n",
      "42'th iter: error = 0.000000059604645\n",
      "43'th iter: error = 0.000000059604645\n",
      "44'th iter: error = 0.000000059604645\n",
      "45'th iter: error = 0.000000059604645\n",
      "46'th iter: error = 0.000000059604645\n",
      "47'th iter: error = 0.000000029802322\n",
      "48'th iter: error = 0.000000014901161\n",
      "49'th iter: error = 0.000000029802322\n",
      "50'th iter: error = 0.000000059604645\n",
      "51'th iter: error = 0.000000059604645\n",
      "52'th iter: error = 0.000000029802322\n",
      "53'th iter: error = 0.000000059604645\n",
      "54'th iter: error = 0.000000029802322\n",
      "55'th iter: error = 0.000000014901161\n",
      "56'th iter: error = 0.000000029802322\n",
      "57'th iter: error = 0.000000059604645\n",
      "58'th iter: error = 0.000000029802322\n",
      "59'th iter: error = 0.000000000000000\n"
     ]
    }
   ],
   "source": [
    "Vs = np.zeros((101), dtype=np.float32)\n",
    "policy = np.zeros((101), dtype=np.int)\n",
    "theta = 1e-10\n",
    "p_h = 0.4\n",
    "\n",
    "iters = 0\n",
    "while True:\n",
    "    delta = 0\n",
    "    Vs_copy = Vs.copy()\n",
    "    Vs_copy[0] = Vs_copy[-1] = 0.\n",
    "    for state in range(1,100):\n",
    "        v = Vs_copy[state]\n",
    "        Vs[state], _ = find_value_of_best_action(state, Vs_copy, p_h)\n",
    "        delta = max(delta, abs(v-Vs[state]))\n",
    "    \n",
    "    iters += 1\n",
    "    print '%d\\'th iter: error = %.15f' %(iters, delta)\n",
    "    \n",
    "    if delta<theta:\n",
    "        break"
   ]
  },
  {
   "cell_type": "markdown",
   "metadata": {},
   "source": [
    "- what to maintain in cache and their shapes ?\n",
    "    - value function, shape = (101,)  $\\to$ state 0 and 100 are null state\n",
    "    - policy, shape = (101,) $\\to$ state 0 and 100 are null state\n",
    "- what is $\\Sigma_{s^{'}} ...$ ?\n",
    "    - p \\* (r_right + V(s'_right)) + (1-p) \\* (r_wrong + V(s'_wrong))"
   ]
  },
  {
   "cell_type": "code",
   "execution_count": 37,
   "metadata": {
    "collapsed": false
   },
   "outputs": [
    {
     "data": {
      "image/png": "[encoded data removed]",
      "text/plain": [
       "<matplotlib.figure.Figure at 0x7fb4f1be1710>"
      ]
     },
     "metadata": {},
     "output_type": "display_data"
    },
    {
     "data": {
      "image/png": "[encoded data removed]",
      "text/plain": [
       "<matplotlib.figure.Figure at 0x7fb4f1d2cf90>"
      ]
     },
     "metadata": {},
     "output_type": "display_data"
    }
   ],
   "source": [
    "# Vs[0] and Vs[100] are NULL state\n",
    "# Calculate the final policy\n",
    "for state in range(1,100):\n",
    "    _, policy[state] = find_value_of_best_action(state, Vs, p_h)\n",
    "\n",
    "plot_values(Vs[1:100])\n",
    "plot_policy(policy[1:100])"
   ]
  },
  {
   "cell_type": "code",
   "execution_count": 30,
   "metadata": {
    "collapsed": false
   },
   "outputs": [
    {
     "name": "stdout",
     "output_type": "stream",
     "text": [
      "[1 2 3 4 5 6 7 8 9]\n",
      "0.448386076093 0.44831\n",
      "0.448386090994\n",
      "0.418909788132\n"
     ]
    }
   ],
   "source": [
    "print policy[51:60]\n",
    "print Vs[16] * 0.6 + 0.4, Vs[58]\n",
    "print Vs[50] * 0.6 + 0.4 * Vs[66]\n",
    "print Vs[38] * 0.6 + 0.4 * Vs[78]"
   ]
  },
  {
   "cell_type": "code",
   "execution_count": 34,
   "metadata": {
    "collapsed": false
   },
   "outputs": [
    {
     "data": {
      "image/png": "[encoded data removed]",
      "text/plain": [
       "<matplotlib.figure.Figure at 0x7fb4f1bda9d0>"
      ]
     },
     "metadata": {},
     "output_type": "display_data"
    }
   ],
   "source": [
    "s = 58\n",
    "Vs_test = Vs.copy()\n",
    "Vs_test[-1] = 1.\n",
    "\n",
    "s_to_all_a = np.zeros((100-s+1,))\n",
    "for action in range(1,100-s+1):\n",
    "    s_to_all_a[action] = 0.4*Vs_test[s+action] + 0.6*Vs_test[s-action]\n",
    "    \n",
    "fig = plt.figure()\n",
    "ax1 = fig.add_subplot(111)\n",
    "ax1.plot(s_to_all_a[1:], '-b')\n",
    "plt.ylabel('Value estimates', fontsize=16)\n",
    "plt.xlabel('Capital', fontsize=16)\n",
    "plt.show()"
   ]
  }
 ],
 "metadata": {
  "kernelspec": {
   "display_name": "Python 2",
   "language": "python",
   "name": "python2"
  },
  "language_info": {
   "codemirror_mode": {
    "name": "ipython",
    "version": 2
   },
   "file_extension": ".py",
   "mimetype": "text/x-python",
   "name": "python",
   "nbconvert_exporter": "python",
   "pygments_lexer": "ipython2",
   "version": "2.7.12"
  }
 },
 "nbformat": 4,
 "nbformat_minor": 2
}
